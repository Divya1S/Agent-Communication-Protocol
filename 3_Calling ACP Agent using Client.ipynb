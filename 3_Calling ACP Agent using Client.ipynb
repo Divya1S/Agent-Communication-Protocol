{
 "cells": [
  {
   "cell_type": "markdown",
   "id": "58502ae5-b320-4097-a5fb-1a7fabd62ed5",
   "metadata": {},
   "source": [
    "# Calling an ACP Agent using the Client"
   ]
  },
  {
   "cell_type": "code",
   "execution_count": null,
   "id": "e2e0ab9f-e299-49e1-b5aa-076c6fd0b0d2",
   "metadata": {},
   "outputs": [],
   "source": [
    "from IPython.display import IFrame\n",
    "import os\n",
    "url = os.environ.get('DLAI_LOCAL_URL').format(port=8888)\n",
    "IFrame(f\"{url}terminals/1\", width=800, height=600)"
   ]
  },
  {
   "cell_type": "code",
   "execution_count": null,
   "id": "71a73abb-654e-4131-aaeb-9b915a3ac27a",
   "metadata": {},
   "outputs": [],
   "source": [
    "import nest_asyncio\n",
    "nest_asyncio.apply()"
   ]
  },
  {
   "cell_type": "code",
   "execution_count": null,
   "id": "0f5c00cf-ce67-4b26-b248-34045df1f726",
   "metadata": {},
   "outputs": [],
   "source": [
    "from acp_sdk.client import Client\n",
    "import asyncio\n",
    "from colorama import Fore \n",
    "\n",
    "async def example() -> None:\n",
    "    async with Client(base_url=\"http://localhost:8001\") as client:\n",
    "        run = await client.run_sync(\n",
    "            agent=\"policy_agent\", input=\"What is the waiting period for rehabilitation?\"\n",
    "        )\n",
    "        print(Fore.YELLOW + run.output[0].parts[0].content + Fore.RESET)"
   ]
  },
  {
   "cell_type": "code",
   "execution_count": null,
   "id": "ac9c7b1b-23bc-4613-a699-106b42343f14",
   "metadata": {},
   "outputs": [],
   "source": [
    "asyncio.run(example())"
   ]
  }
 ],
 "metadata": {
  "kernelspec": {
   "display_name": "Python 3 (ipykernel)",
   "language": "python",
   "name": "python3"
  },
  "language_info": {
   "codemirror_mode": {
    "name": "ipython",
    "version": 3
   },
   "file_extension": ".py",
   "mimetype": "text/x-python",
   "name": "python",
   "nbconvert_exporter": "python",
   "pygments_lexer": "ipython3",
   "version": "3.11.6"
  }
 },
 "nbformat": 4,
 "nbformat_minor": 5
}
