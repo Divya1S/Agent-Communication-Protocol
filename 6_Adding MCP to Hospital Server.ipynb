{
 "cells": [
  {
   "cell_type": "markdown",
   "id": "51314003-4f36-453f-88ff-c6621b784d59",
   "metadata": {},
   "source": [
    "# Hierarchically Chaining the Agent Calls using a Router Agent"
   ]
  },
  {
   "cell_type": "markdown",
   "id": "6b5c3f95-8f99-4d35-8369-d383176d6bc8",
   "metadata": {},
   "source": [
    "## 8.1. Start Up both ACP Servers"
   ]
  },
  {
   "cell_type": "markdown",
   "id": "39b7a6d8",
   "metadata": {},
   "source": [
    "First make sure the Insurer server is still running:\n",
    "- then you can run the server again by typing:\n",
    "  - `uv run crew_agent_server.py`"
   ]
  },
  {
   "cell_type": "code",
   "execution_count": 1,
   "id": "e350c16f-672e-41f2-80d6-a3b854abc90f",
   "metadata": {},
   "outputs": [
    {
     "data": {
      "text/html": [
       "\n",
       "        <iframe\n",
       "            width=\"800\"\n",
       "            height=\"600\"\n",
       "            src=\"https://s172-29-59-244p8888.lab-aws-production.deeplearning.ai/terminals/1\"\n",
       "            frameborder=\"0\"\n",
       "            allowfullscreen\n",
       "            \n",
       "        ></iframe>\n",
       "        "
      ],
      "text/plain": [
       "<IPython.lib.display.IFrame at 0x7fd938c360d0>"
      ]
     },
     "execution_count": 1,
     "metadata": {},
     "output_type": "execute_result"
    }
   ],
   "source": [
    "from IPython.display import IFrame\n",
    "import os\n",
    "url = os.environ.get('DLAI_LOCAL_URL').format(port=8888)\n",
    "IFrame(f\"{url}terminals/1\", width=800, height=600)"
   ]
  },
  {
   "cell_type": "markdown",
   "id": "a1c23330",
   "metadata": {},
   "source": [
    "Also make sure the Hospital server is still running:\n",
    "- then you can run the server again by typing:\n",
    "  - `uv run smolagents_server.py`"
   ]
  },
  {
   "cell_type": "code",
   "execution_count": 2,
   "id": "639370d9-5241-4dab-b8cd-67298d9c8ea4",
   "metadata": {},
   "outputs": [
    {
     "data": {
      "text/html": [
       "\n",
       "        <iframe\n",
       "            width=\"800\"\n",
       "            height=\"600\"\n",
       "            src=\"https://s172-29-59-244p8888.lab-aws-production.deeplearning.ai/terminals/2\"\n",
       "            frameborder=\"0\"\n",
       "            allowfullscreen\n",
       "            \n",
       "        ></iframe>\n",
       "        "
      ],
      "text/plain": [
       "<IPython.lib.display.IFrame at 0x7fd938c5da10>"
      ]
     },
     "execution_count": 2,
     "metadata": {},
     "output_type": "execute_result"
    }
   ],
   "source": [
    "IFrame(f\"{url}terminals/2\", width=800, height=600)"
   ]
  },
  {
   "cell_type": "markdown",
   "id": "52b648fc-f4f0-45b7-8d02-ecd368aeccc9",
   "metadata": {},
   "source": [
    "## 8.2. Import ACPCallingAgent"
   ]
  },
  {
   "cell_type": "markdown",
   "id": "07ce2605",
   "metadata": {},
   "source": [
    "The router agent is already implemented for you as the `ACPCallingAgent`. You are provided with a python file called `fastacp.py` where you can find the definition of the `ACPCallingAgent`. "
   ]
  },
  {
   "cell_type": "code",
   "execution_count": 3,
   "id": "0dfeac96-37e7-4e5e-9162-3335e5837cac",
   "metadata": {},
   "outputs": [],
   "source": [
    "import asyncio \n",
    "import nest_asyncio\n",
    "from acp_sdk.client import Client\n",
    "from smolagents import LiteLLMModel\n",
    "from fastacp import AgentCollection, ACPCallingAgent\n",
    "from colorama import Fore"
   ]
  },
  {
   "cell_type": "code",
   "execution_count": 4,
   "id": "d03d181e-d65e-47d3-83eb-1ba394d3801d",
   "metadata": {},
   "outputs": [
    {
     "name": "stdout",
     "output_type": "stream",
     "text": [
      "\n",
      "    This agent uses JSON-like ACP agent calls, similarly to how ToolCallingAgent uses tool calls,\n",
      "    but directed at remote ACP agents instead of local tools.\n",
      "    \n",
      "    Args:\n",
      "        acp_agents (`dict[str, Agent]`): ACP agents that this agent can call.\n",
      "        model (`Callable[[list[dict[str, str]]], ChatMessage]`): Model that will generate the agent's actions.\n",
      "        prompt_templates ([`Dict[str, str]`], *optional*): Prompt templates.\n",
      "        planning_interval (`int`, *optional*): Interval at which the agent will run a planning step.\n",
      "        **kwargs: Additional keyword arguments.\n",
      "    \n"
     ]
    }
   ],
   "source": [
    "print(ACPCallingAgent.__doc__)"
   ]
  },
  {
   "cell_type": "markdown",
   "id": "f4ae3cf3-6c40-4b13-a125-660f21d8f5a4",
   "metadata": {},
   "source": [
    "## 8.3. Run the Hierarchical Workflow "
   ]
  },
  {
   "cell_type": "code",
   "execution_count": 5,
   "id": "dcbe8308-1bc2-4fd6-88b1-5367ac895e22",
   "metadata": {},
   "outputs": [],
   "source": [
    "nest_asyncio.apply()"
   ]
  },
  {
   "cell_type": "code",
   "execution_count": 6,
   "id": "96eeae29-1b30-4850-bcc4-27beb65505bb",
   "metadata": {},
   "outputs": [],
   "source": [
    "model = LiteLLMModel(\n",
    "    model_id=\"openai/gpt-4\"\n",
    ")\n",
    "\n",
    "async def run_hospital_workflow() -> None:\n",
    "    async with Client(base_url=\"http://localhost:8001\") as insurer, Client(base_url=\"http://localhost:8000\") as hospital:\n",
    "        # agents discovery\n",
    "        agent_collection = await AgentCollection.from_acp(insurer, hospital)  \n",
    "        acp_agents = {agent.name: {'agent':agent, 'client':client} for client, agent in agent_collection.agents}\n",
    "        print(acp_agents) \n",
    "        # passing the agents as tools to ACPCallingAgent\n",
    "        acpagent = ACPCallingAgent(acp_agents=acp_agents, model=model)\n",
    "        # running the agent with a user query\n",
    "        result = await acpagent.run(\"do i need rehabilitation after a shoulder reconstruction and what is the waiting period from my insurance?\")\n",
    "        print(Fore.YELLOW + f\"Final result: {result}\" + Fore.RESET)"
   ]
  },
  {
   "cell_type": "code",
   "execution_count": null,
   "id": "ca04856a-6404-4e98-9420-bcf8c0e9296d",
   "metadata": {},
   "outputs": [],
   "source": [
    "asyncio.run(run_hospital_workflow())"
   ]
  }
 ],
 "metadata": {
  "kernelspec": {
   "display_name": "Python 3 (ipykernel)",
   "language": "python",
   "name": "python3"
  },
  "language_info": {
   "codemirror_mode": {
    "name": "ipython",
    "version": 3
   },
   "file_extension": ".py",
   "mimetype": "text/x-python",
   "name": "python",
   "nbconvert_exporter": "python",
   "pygments_lexer": "ipython3",
   "version": "3.11.13"
  }
 },
 "nbformat": 4,
 "nbformat_minor": 5
}
